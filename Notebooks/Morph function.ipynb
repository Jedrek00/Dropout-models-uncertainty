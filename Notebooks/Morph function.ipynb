{
 "cells": [
  {
   "cell_type": "code",
   "execution_count": 39,
   "id": "081c4ddb",
   "metadata": {},
   "outputs": [],
   "source": [
    "import numpy as np\n",
    "\n",
    "def morph(imageA, imageB, steps_count=10):\n",
    "    '''\n",
    "    Images need to be in range [0, 1]\n",
    "    imageA - shows up first\n",
    "    imageB - shows up last\n",
    "    '''\n",
    "    for i in np.linspace(0, 1, steps_count):\n",
    "        yield imageA * (1-i) + imageB * i"
   ]
  },
  {
   "cell_type": "markdown",
   "id": "939cde68",
   "metadata": {},
   "source": [
    "# Example"
   ]
  },
  {
   "cell_type": "code",
   "execution_count": null,
   "id": "d5d699d3",
   "metadata": {},
   "outputs": [],
   "source": [
    "import matplotlib.pyplot as plt\n",
    "imgA, imgB = plt.imread('PATH 1'), plt.imread('PATH 2')\n",
    "imgA = imgA / 255.\n",
    "imgB = imgB / 255.\n",
    "plt.figure(figsize=(12, 10))\n",
    "plt.tight_layout()\n",
    "for i, img in enumerate(morph(imgA, imgB, 20)):\n",
    "    plt.subplot(4, 5, i+1)\n",
    "    plt.axis('off')\n",
    "    plt.imshow(img)\n",
    "plt.show()"
   ]
  },
  {
   "cell_type": "code",
   "execution_count": null,
   "id": "55b65d52",
   "metadata": {},
   "outputs": [],
   "source": []
  }
 ],
 "metadata": {
  "kernelspec": {
   "display_name": "Python 3 (ipykernel)",
   "language": "python",
   "name": "python3"
  },
  "language_info": {
   "codemirror_mode": {
    "name": "ipython",
    "version": 3
   },
   "file_extension": ".py",
   "mimetype": "text/x-python",
   "name": "python",
   "nbconvert_exporter": "python",
   "pygments_lexer": "ipython3",
   "version": "3.10.9"
  }
 },
 "nbformat": 4,
 "nbformat_minor": 5
}
